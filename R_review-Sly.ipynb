{
  "nbformat": 4,
  "nbformat_minor": 0,
  "metadata": {
    "colab": {
      "provenance": [],
      "include_colab_link": true
    },
    "kernelspec": {
      "name": "ir",
      "display_name": "R"
    },
    "language_info": {
      "name": "R"
    }
  },
  "cells": [
    {
      "cell_type": "markdown",
      "metadata": {
        "id": "view-in-github",
        "colab_type": "text"
      },
      "source": [
        "<a href=\"https://colab.research.google.com/github/lansly/bash-review-Sly/blob/computation/R_review-Sly.ipynb\" target=\"_parent\"><img src=\"https://colab.research.google.com/assets/colab-badge.svg\" alt=\"Open In Colab\"/></a>"
      ]
    },
    {
      "cell_type": "markdown",
      "source": [
        "# Install any necessary libraries."
      ],
      "metadata": {
        "id": "q0QfUpIy73io"
      }
    },
    {
      "cell_type": "code",
      "source": [
        "#for some reason I am unable to install the package of interest here\n",
        "install.packages(ggplot)"
      ],
      "metadata": {
        "id": "_La7hrsH73tK",
        "colab": {
          "base_uri": "https://localhost:8080/",
          "height": 140
        },
        "outputId": "07a6181a-c7b2-4610-c885-3b353bbd5f4a"
      },
      "execution_count": null,
      "outputs": [
        {
          "output_type": "error",
          "ename": "ERROR",
          "evalue": "ignored",
          "traceback": [
            "Error in eval(expr, envir, enclos): object 'ggplot' not found\nTraceback:\n",
            "1. install.packages(ggplot)"
          ]
        }
      ]
    },
    {
      "cell_type": "markdown",
      "source": [
        "# Load your libraries."
      ],
      "metadata": {
        "id": "OL92MAS773-q"
      }
    },
    {
      "cell_type": "code",
      "source": [
        "# thus, I am unable to load the library of interest here\n",
        "library(ggplot)"
      ],
      "metadata": {
        "id": "dXeV2wls74Sd",
        "colab": {
          "base_uri": "https://localhost:8080/",
          "height": 140
        },
        "outputId": "09c7a64e-492d-4647-c136-281a3e0a08b0"
      },
      "execution_count": null,
      "outputs": [
        {
          "output_type": "error",
          "ename": "ERROR",
          "evalue": "ignored",
          "traceback": [
            "Error in library(ggplot): there is no package called ‘ggplot’\nTraceback:\n",
            "1. library(ggplot)"
          ]
        }
      ]
    },
    {
      "cell_type": "markdown",
      "source": [
        "# Define some variables\n",
        "Create two string variables, one each for species and sample, as well as a character vector called \"conditions\". The latter should contain four elements: 2 strings, both of which should be \"control\" and two of whatever you named your sample variable."
      ],
      "metadata": {
        "id": "QqZ9nMfQ74x-"
      }
    },
    {
      "cell_type": "code",
      "source": [
        "species = (\"mouse\")\n",
        "sample = (\"treated\")\n",
        "conditions = c('control' ,'control', 'treated','treated')\n",
        "print (conditions)\n"
      ],
      "metadata": {
        "id": "kOpp37zQ747M",
        "colab": {
          "base_uri": "https://localhost:8080/"
        },
        "outputId": "80fb56be-a3f8-46e6-b9d1-2f7b59954b4a"
      },
      "execution_count": null,
      "outputs": [
        {
          "output_type": "stream",
          "name": "stdout",
          "text": [
            "[1] \"control\" \"control\" \"treated\" \"treated\"\n"
          ]
        }
      ]
    },
    {
      "cell_type": "markdown",
      "source": [
        "# Use Paste0\n",
        "Suppose you have some files, SRARunTableLow.txt and SRARunTableHigh.txt. Create a variable using paste0 and your sample variable such that your new variable matches these file names when your sample variable is changed to \"high\" or \"low.\""
      ],
      "metadata": {
        "id": "7BGMLgS-75KY"
      }
    },
    {
      "cell_type": "code",
      "source": [
        "\n",
        "sample = \"low\" # or high\n",
        "\n",
        "file_name = paste0(\"SRARunTable\", sample, \".txt\")\n",
        "\n",
        "print(file_name)\n",
        "\n",
        "\n",
        "\n"
      ],
      "metadata": {
        "id": "tFKuhtqUE7Ef",
        "colab": {
          "base_uri": "https://localhost:8080/"
        },
        "outputId": "60104edc-b287-41cd-de9b-0bd1a678ace8"
      },
      "execution_count": null,
      "outputs": [
        {
          "output_type": "stream",
          "name": "stdout",
          "text": [
            "[1] \"SRARunTablelow.txt\"\n"
          ]
        }
      ]
    },
    {
      "cell_type": "markdown",
      "source": [
        "# Create synthetic data\n",
        "Write two columns of whatever sort of data strikes your fancy and publish it to a csv. Consider the next two exercises when you do this."
      ],
      "metadata": {
        "id": "jTAy8guGLrZ6"
      }
    },
    {
      "cell_type": "code",
      "source": [
        "# Create data\n",
        "data <- data.frame(\n",
        "  Sample = c(\"human\", \"human\", \"mouse\", \"mouse\"),\n",
        "  expression_level = c(25, 35, 5, 7))\n",
        "\n",
        "# Write the data to a CSV file\n",
        "write.csv(data, file = \"data.csv\", row.names =FALSE)\n",
        "\n",
        "print(data)"
      ],
      "metadata": {
        "id": "amLvYlGBLrie",
        "colab": {
          "base_uri": "https://localhost:8080/"
        },
        "outputId": "eab63d0a-848e-426b-94a5-88f0929c501b"
      },
      "execution_count": null,
      "outputs": [
        {
          "output_type": "stream",
          "name": "stdout",
          "text": [
            "  Sample expression_level\n",
            "1  human               25\n",
            "2  human               35\n",
            "3  mouse                5\n",
            "4  mouse                7\n"
          ]
        }
      ]
    },
    {
      "cell_type": "markdown",
      "source": [
        "# Conditional statement\n",
        "Use the read.csv function to import the first column of your CSV if species is set to human, or the second column if species is set to mouse. Assign this data to a variable."
      ],
      "metadata": {
        "id": "7epUmeo5E7Sd"
      }
    },
    {
      "cell_type": "code",
      "source": [
        "species = \"human\" # or \"mouse\"\n",
        "\n",
        "if (species == \"human\") {data = read.csv(\"data.csv\", header = TRUE, col.names =c (\"Human\",\"mouse\"))\n",
        "  column = data$Human}\n",
        "if (species == \"mouse\") { data = read.csv(\"data.csv\", header = TRUE, col.names = c(\"human\" , \"Mouse\"))\n",
        " column = data$Mouse}\n",
        "  print(data$Human)\n",
        "  print(data$mouse)"
      ],
      "metadata": {
        "id": "LrDmjV80FFs5",
        "colab": {
          "base_uri": "https://localhost:8080/"
        },
        "outputId": "2a0d1c14-612f-4fcc-8cbd-1d9396ccb2ba"
      },
      "execution_count": null,
      "outputs": [
        {
          "output_type": "stream",
          "name": "stdout",
          "text": [
            "[1] \"human\" \"human\" \"mouse\" \"mouse\"\n",
            "[1] 25 35  5  7\n"
          ]
        }
      ]
    },
    {
      "cell_type": "markdown",
      "source": [
        "# Use ggplot\n",
        "Plot the data from your csv using ggplot in whatever format strikes your fancy and is appropriate for the data you chose. Pick some fun colors to use."
      ],
      "metadata": {
        "id": "rikpHQh_FF2n"
      }
    },
    {
      "cell_type": "code",
      "source": [
        "library(ggplot2)\n",
        "ggplot(data, aes(x = Sample, y = expression_level, fill = Sample)) +\n",
        "  stat_summary(fun = \"mean\", geom = \"col\") +\n",
        "  ylab(\"Average expression level\") +\n",
        "  scale_fill_manual(values = c(\"red\", \"blue\"))"
      ],
      "metadata": {
        "id": "xQIfD6EfMDid",
        "colab": {
          "base_uri": "https://localhost:8080/",
          "height": 437
        },
        "outputId": "8fd9452d-db2e-4952-b73f-8ec9fc92a0d3"
      },
      "execution_count": null,
      "outputs": [
        {
          "output_type": "display_data",
          "data": {
            "text/plain": [
              "plot without title"
            ],
            "image/png": "[encoded data removed]"
          },
          "metadata": {
            "image/png": {
              "width": 420,
              "height": 420
            }
          }
        }
      ]
    }
  ]
}