{
  "cells": [
    {
      "cell_type": "markdown",
      "metadata": {
        "id": "view-in-github",
        "colab_type": "text"
      },
      "source": [
        "<a href=\"https://colab.research.google.com/github/lansly/bash-review-Sly/blob/computation/SL_Bash_review_homework.ipynb\" target=\"_parent\"><img src=\"https://colab.research.google.com/assets/colab-badge.svg\" alt=\"Open In Colab\"/></a>"
      ]
    },
    {
      "cell_type": "markdown",
      "id": "86660fea",
      "metadata": {
        "id": "86660fea"
      },
      "source": [
        "# \"Hello, world!\" in Bash in Jupyter\n",
        "Every time you run a code block in bash in jupyter, you have to remind Jupyter what language you're using and where to find the conda environment."
      ]
    },
    {
      "cell_type": "code",
      "execution_count": null,
      "id": "04489d21",
      "metadata": {
        "id": "04489d21",
        "outputId": "6cd6e53a-96b4-400a-9fc7-9333c71cbdcb",
        "colab": {
          "base_uri": "https://localhost:8080/"
        }
      },
      "outputs": [
        {
          "output_type": "stream",
          "name": "stdout",
          "text": [
            "Hello, world!\n"
          ]
        },
        {
          "output_type": "stream",
          "name": "stderr",
          "text": [
            "bash: line 1: /bobross/miniconda3/etc/profile.d/conda.sh: No such file or directory\n"
          ]
        }
      ],
      "source": [
        "%%bash\n",
        "source /bobross/miniconda3/etc/profile.d/conda.sh\n",
        "echo 'Hello, world!'"
      ]
    },
    {
      "cell_type": "markdown",
      "id": "9f8e5800",
      "metadata": {
        "id": "9f8e5800"
      },
      "source": [
        "# Use Python to create a list.txt\n",
        "Execute this code block. It's in Python. It sets up a text file for subsequent steps."
      ]
    },
    {
      "cell_type": "code",
      "execution_count": null,
      "id": "96bc5a1f",
      "metadata": {
        "id": "96bc5a1f",
        "outputId": "4abf9ffe-0890-4a5e-aae9-0faabc045b2a",
        "colab": {
          "base_uri": "https://localhost:8080/"
        }
      },
      "outputs": [
        {
          "output_type": "stream",
          "name": "stdout",
          "text": [
            "Done\n"
          ]
        }
      ],
      "source": [
        "samples = ['control', 'treatmentA', 'treatmentB']\n",
        "\n",
        "file = open(\"list.txt\", \"w\")\n",
        "for line in samples:\n",
        "    file.write(\"%s\\n\" % line)\n",
        "file.close()\n",
        "print('Done')"
      ]
    },
    {
      "cell_type": "markdown",
      "id": "58cf445b",
      "metadata": {
        "id": "58cf445b"
      },
      "source": [
        "# Exercise #1 For loop in Bash\n",
        "Write a bash script with a for loop that echoes the contents of the list.txt created in the previous step."
      ]
    },
    {
      "cell_type": "code",
      "execution_count": null,
      "id": "359690c0",
      "metadata": {
        "id": "359690c0",
        "outputId": "2176020d-78a2-4321-c52e-e4db7a759dca",
        "colab": {
          "base_uri": "https://localhost:8080/"
        }
      },
      "outputs": [
        {
          "output_type": "stream",
          "name": "stdout",
          "text": [
            "control\n",
            "treatmentA\n",
            "treatmentB\n"
          ]
        }
      ],
      "source": [
        "%%bash\n",
        "var=$(cat list.txt)\n",
        "\n",
        "for i in ${var}\n",
        "do\n",
        "  echo ${i}\n",
        "done"
      ]
    },
    {
      "cell_type": "markdown",
      "id": "b243fda4",
      "metadata": {
        "id": "b243fda4"
      },
      "source": [
        "# Use Python to create a config.txt\n",
        "Execute this code block. It's in Python. It sets up a text file for subsequent steps."
      ]
    },
    {
      "cell_type": "code",
      "execution_count": null,
      "id": "b9cbca7a",
      "metadata": {
        "id": "b9cbca7a",
        "outputId": "9ed3540a-f43d-4bd1-c868-41b97cf8a1fb",
        "colab": {
          "base_uri": "https://localhost:8080/"
        }
      },
      "outputs": [
        {
          "output_type": "stream",
          "name": "stdout",
          "text": [
            "Done\n"
          ]
        }
      ],
      "source": [
        "kingdom = \"Ocean\"\n",
        "princess = \"Ariel\"\n",
        "problem = \"Tail\"\n",
        "\n",
        "config = open(\"config.txt\", \"w\")\n",
        "configelements = [kingdom, princess, problem]\n",
        "for line in configelements:\n",
        "    config.write(\"%s\\n\" % line)\n",
        "config.close()\n",
        "print('Done')"
      ]
    },
    {
      "cell_type": "markdown",
      "id": "bc8a2786",
      "metadata": {
        "id": "bc8a2786"
      },
      "source": [
        "# Exercise #2\n",
        "Write a bash script that echos the name of the princess in the config file."
      ]
    },
    {
      "cell_type": "code",
      "execution_count": null,
      "id": "b6f0a608",
      "metadata": {
        "id": "b6f0a608",
        "outputId": "5c2b4a4f-d7b2-45d8-d105-20831cdc4568",
        "colab": {
          "base_uri": "https://localhost:8080/"
        }
      },
      "outputs": [
        {
          "output_type": "stream",
          "name": "stdout",
          "text": [
            "Ariel\n"
          ]
        }
      ],
      "source": [
        "%%bash\n",
        "sed -n 2p config.txt"
      ]
    },
    {
      "cell_type": "markdown",
      "id": "56294b0c",
      "metadata": {
        "id": "56294b0c"
      },
      "source": [
        "# Exercise #3\n",
        "Write a bash script that checks the name of the princess. If the princess is Belle, print \"Lumiere.\" If the princess is Ariel, print \"Flounder\"."
      ]
    },
    {
      "cell_type": "code",
      "execution_count": null,
      "id": "c4bbd8ea",
      "metadata": {
        "id": "c4bbd8ea",
        "colab": {
          "base_uri": "https://localhost:8080/"
        },
        "outputId": "060c1da0-3f32-4309-dad3-c2c6f2f33a85"
      },
      "outputs": [
        {
          "output_type": "stream",
          "name": "stdout",
          "text": [
            "Flounder\n"
          ]
        }
      ],
      "source": [
        "%%bash\n",
        "\n",
        "if [ $(sed -n 2p config.txt) = \"Belle\" ];then\n",
        "echo \"Lumiere\"\n",
        "elif [ $(sed -n 2p config.txt) = \"Ariel\" ] ; then\n",
        "echo \"Flounder\"\n",
        "fi"
      ]
    },
    {
      "cell_type": "markdown",
      "id": "5af57135",
      "metadata": {
        "id": "5af57135"
      },
      "source": [
        "# Exercise #4\n",
        "Write a bash script that downloads the fastq file for this SRA entry https://www.ncbi.nlm.nih.gov/sra/SRX21497176[accn]"
      ]
    },
    {
      "cell_type": "code",
      "execution_count": null,
      "id": "4b90f95b",
      "metadata": {
        "id": "4b90f95b",
        "outputId": "3cbb0ac6-e848-4f95-80a5-6d75ba5505bf",
        "colab": {
          "base_uri": "https://localhost:8080/"
        }
      },
      "outputs": [
        {
          "output_type": "stream",
          "name": "stderr",
          "text": [
            "--2023-09-09 02:41:32--  https://trace.ncbi.nlm.nih.gov/Traces/?run=SRR11412247\n",
            "Resolving trace.ncbi.nlm.nih.gov (trace.ncbi.nlm.nih.gov)... 130.14.29.113, 2607:f220:41e:4290::113\n",
            "Connecting to trace.ncbi.nlm.nih.gov (trace.ncbi.nlm.nih.gov)|130.14.29.113|:443... connected.\n",
            "HTTP request sent, awaiting response... 200 OK\n",
            "Length: 5502 (5.4K) [text/html]\n",
            "Saving to: ‘index.html?run=SRR11412247’\n",
            "\n",
            "     0K .....                                                 100% 2.23G=0s\n",
            "\n",
            "2023-09-09 02:41:32 (2.23 GB/s) - ‘index.html?run=SRR11412247’ saved [5502/5502]\n",
            "\n"
          ]
        }
      ],
      "source": [
        "%%bash\n",
        "wget https://trace.ncbi.nlm.nih.gov/Traces/?run=SRR11412247"
      ]
    },
    {
      "cell_type": "markdown",
      "id": "231f2769",
      "metadata": {
        "id": "231f2769"
      },
      "source": [
        "# Exercise #5\n",
        "Write a bash script that zips that fastq up"
      ]
    },
    {
      "cell_type": "code",
      "execution_count": 9,
      "id": "88f39f76",
      "metadata": {
        "id": "88f39f76",
        "colab": {
          "base_uri": "https://localhost:8080/"
        },
        "outputId": "5cf83321-8b76-4411-dadf-ce32e3662ad5"
      },
      "outputs": [
        {
          "output_type": "stream",
          "name": "stderr",
          "text": [
            "gzip: SRR11412247.fastq: file size changed while zipping\n"
          ]
        }
      ],
      "source": [
        "%%bash\n",
        "gzip SRR11412247.fastq"
      ]
    },
    {
      "cell_type": "markdown",
      "id": "84dc8e5f",
      "metadata": {
        "id": "84dc8e5f"
      },
      "source": [
        "# Exercise #6\n",
        "Write a bash script that prints each line of the fastq that starts with \">\" without unzipping it. You can use the format <(file.fq.gz) in place of the unzipped file name as a process substitution."
      ]
    },
    {
      "cell_type": "code",
      "execution_count": 10,
      "id": "78dc8eae",
      "metadata": {
        "id": "78dc8eae",
        "colab": {
          "base_uri": "https://localhost:8080/"
        },
        "outputId": "b6436f08-633f-47f0-a2fc-54a93b556e10"
      },
      "outputs": [
        {
          "output_type": "stream",
          "name": "stdout",
          "text": [
            ">��!\u001e��\u001a`.?�a��v^\u0013�To_�Ӟ\u0001g\u0018FB�gi�8l�������J�ewp�֊�N��:CE���4D�\u0003g��R����*�\u0012�\u0010_��\u001b���P�x�:\u0015o\u0012�y\u001fs\r\u0015�on׃bU$��3d���Vc,?tCv_�\u0013\n",
            ">;���5s �\u0017�O�ͨ�m�\u0001�X\u000b�в����cя�}-\ru\\ӝU��$���\u0011��+�\u0014Hj��/(ԫ2Q��!\u0007��aV�%�gn\u001e�]��ݯ\u0005u����=�։�\b\u0000�(U�^fo�+���\u0002)�Ŏ�����0\u0000��3��#q�9%��w_��\u001d�\u0017|A}\u0017�i|��\u0011�O����������ӓ��K�n\u001a=u7q,��P�\u0011g(����匪�{j�H&aU��c���Ȉ���oc?\r��Zp��}>�7[s�n�)wz�����Kvk6�ꔲn�%v��\u0003�U�0S�5c\fj���c@\u0007�%�\u0005�]�\u0001�X\u000b�0��{�Zc����do:\u0002#]�]�Î�\"�~'�$��'��_��Zo��Jk��aSl87�);���p\u001b�i�/ւ;L���L��~\u001a����\u000e��|��ё1%�I۷;G�c���[\u0013��������=��.���l�W�cT*`c������V[�6��\u0000_�\u0005w���뽼\u000e���qK\u0005�|�\u000e��!%��Fʹ|���'����Ķع�xhmZ�\u0017lw��N���>\u001ff��?���'�\u0005�]�\u0007��Wk�\u001d��y�95�M\u0001\t\u0006[��L����1\u000b8��I\b��U����n�^\u0014�s���0\u0017�����C���TD,��b?\r��Zp��}�h\u0005~>M%�M��B+;*\tF�\u0014Δ\u001a\u0001P��-|o\fP�Ҭ_U�\u000b�lR��\u0000P�D��\"HW�����>\r�f-xC�>���|�/�*oc?\r��z��\u000b��uwiagκ������\r�3�P�����|\r\u0012*=;�Y�6��u�n�v*���\u0017&�\u0011���\b�\u0011�m��ݯ\u0005u\u0018�ף�\u0011���^�\u0010�\u0003�ͩ��3���\"-�$�Z�*��2�����NU�E`^�\u0001�� �Ꙍ]VU�6��\u0000_�\u0005w\u0018��Ý�����\u000bGf�U���z\u001fJ��\u0012+��P��lNw��~�e\u0019f�\f��郎[}�Q\\Y�Y\u001f�]�\u0001�X\u000b�0��\u001bc���iN)u/�'��-�y�ݝhl(I������L�\u0001U\u000b>j�\f涬h�\":�\u0011�����\u0012\u0012~���\u0011�e���?�\u0004P�6����r���x�\u000b26t7���,���\u0006�6���ڲa/���V4���\u000e���1�1�\"��bg�r�\u0016zVjM\u001er��䊋\u001f�%6�>�\u001dls�\u0003�o�1��ʰ=�F�:4_U��.���nׂ9�����э|����\b�y��Rգ��\u0013ݣ�Ď��^,��G��,Z�&�\u001d%���c��\u001f��A�\u0016�w���w�\u0016��c_�\\ҹ����\u001b�b�wё�5�:ْ�\u0005�\u00125%ו�D�1�M%���j;�F��=\u0012M!֐�/��b?\r��Zp��}�E>�?�ڬ;�.��\u0000_�\u0005wx��_�)�Z�w��\u0006�b=��\r1���\u001f�己�\u0006�b-��̾�u���WO�9���\u00181��9���&���v\u001c�\u0006���\u001d��������\u0005�z����1�Hە�����w�\u0016��e�/���SR�ȴ7\r�(i�8\u0002��\u0013���TR\u0016��v��@C��{�ko��iF���\u000f�����\u000b�4����\u000e��񷷯'U\"�rH\u0000[�t2[��%G�9ЯU�\u001b>)r\u001ep�=�陽�cQU�;\u001frJZ\u0013S�\u0010v-��\u0002?��n-���\u0017g&R\b4���!����A)��*��ɇ|ʙ9��\u0001�`*��\u001b��w�Ѫ�\u001d�hj�Tb\u0001}\u0017�i�/ւ;,��Gg��\tA\u000e5�\u0014�tS�\u001cK�\\�m�;\u0003�\u001eN�i�ҫD��\u0001-V�\u0012�2��)�]��\u0005�[!\be���lP�\u001bM��E�C۩1i���\u0013s�\u001c�1�)-��ʍ`Ł\u001bx��榴k�&�E5��\r�߆~\u0012�뵠\u000ec�����hX��h�c�dկǙW\u0014[����+\u0016�O��c1���o䵦��<Mu�Yr_P߅~\u001a��ZP��}�s͙V�_���XӲ@2���\u000e3���ƌ!�m1S��\u0019=��\u0016i'\u0005q�X(\u0004zʵ��6��}���4�\u0017k�\u001d��}���M|�{3��n%���N�N-���ld�wy+���W�>�5�C�)Ob��\u00167^K^�\u0005�]�\u0001�X\u000f�?�1�����an\u0001FW���\u0013#��L�do?f�FRU��;\u0013�M]�U\u0015g���KRi���ѹI��q�\u0012)�c)q\u001f�i�/ւ�3��\u00116�ޔ�g\u0004+�m�i6�\bT��\tKTzm�=�|�EqNq���m�X8(RVG��A���\u0017�\u000b��O�_\u000b�/���ϫ��c?\r��Zp%�{O'v�\u001eU237k�FK獁J!�\u0018�<k3ו!3��ͬ\u0015�\u0004�F\u0010�\u0015�C��(�p\u0005��Zp��~\u001a�����F�7����D�8r���+L�x-\u001dȋ�j��Ǘq1\u0016M��ϧ2�Ô�����l�o��]d�\u0007f�Dv?]6s�n�'S����\u0018uH�I\u001d*SN(:\u0015Y�y!\u00125\u001c�̃G\u0012H���ZYOn!�\u0016�3P����}�GP��k�����|�Ȫ{�F]\u0011�\u001a�>s�<�L�r�LՄ�\u0011>�5-c�zW��ض�\u000e?�T�Gz,��f���}��ݮ\u0005�O\"��YL\u001boZ�@G�\u001d�\u0018e\u000f��w����3�#s�\u001a�zmiiN�ǮC��\u0015g`u'\u0003\r�D�|�61�-��\u0002?��n-�\u0011��C\u0015p>wU\u000e٢\u0015���2U\u0012���m\u000ek��YwEY9?!�I�\u0019:\u0006�q�\r٥\u0017\u0000(Y�X�����O\u0003|�\u0016ܿ��\u001f����~\u001a�����3\u001c����9���Y�ۿ9\t�3@�\u0019�\\y����nu�=�\f8�%��j�\u0017���\f�\"X嘻�pΆ��-��}�\u0001�X\u000b����]�$�\b;\u001d\u0017Fe*�RC[u���W|U�E�\u001e�ʜ�V���䳵L�]O\u001f�k\u001bwn;�۲̕��~\u001a����\u000eK{�����'\u0012kv��J8H��M'�X�\u001fh��ٝ꜏�0\u0019^T�L\n",
            ">(�\u0000�0��OЮ��m|\u001d\u0007SAn��2Ԥ� ��\u001d��\"o�~\u001a�����\u0007\u001c�㏧�Y�H��36�Xm\u000e\u0014�3j�ݒ�gW�U\u0013�ĉ��R�|\u0012�\u000f�\u0018\u0013{Ԋ\u001cE�\u0011\u000b���n�4����\u000e���q�qgm�'�����\f������P��3�[��\\#�u.�M�S���N�G�ͤӸᚯ��Q�n�4��� \u000e��x̉�-R�0\u0015�\f\u0014�zu���!йE{4����e������֘*\u000e���@.S�,;\u001f��\u0002�n�\u0001�X\u000b�д���%��\u000e���5c �^'��\u0006\u0018w5\u000f�qy�6Gb����,�8_�\u0012QU���\u001fql��Q����i�/ւ;,��qr�g�\u0003�\u001a\u0016xޔF��\u0017H)���x��W-fKW3�3� �6��\u0016�&P��{�=�g\u000b컭��w�\u0016�ay\u001f\u000fr�f^�\"Nf��imqcR.���\u000b\u000bn�\u0001hk�\f9��9�\te'�1�1#\u0004�\u0010?\u001f�n3�\rڰ����i|�kA\u001d���8��\u0019�!�4\u000f����f�z��^�:xoT��ë^7��MەF\u001e�0�Hּ��P���������4�\u0017k�\u001d��񬤕\u0019�\f�Ȋ#vm7i��Y��zl{J��Uf7\f�b�H��r��Y��U#Q���\u0011����i�/ւ;4����\b�a\r�z�g�nňrB)��\u0014\r�(`-:!���]�\t@c�*��-,kN�;\n",
            ">�5����گ�]��V\u0004~�v��s��\n",
            ">���,(�\"9�\tt��F�^?~a8����u´άg{*�(�y����j�8�ĸ浟�A+\u0001�\u0017����\u0016�v\u0011�W���1�ܼ?�\u001b�C��\\�֤fh\u000e�iIm­�j�`bH�-��j\u0014o��GNv\r\u0017�O\u00147\u0011m��\t\fl�\u000b��Џ�{�\u0016��6���.���4�\u0017k�\u001dv���T!�H�*\u0018K\u0016Ut}�1vŸ��\b�+\u0012JZ��\u000f��~�\u0003\u0017�\u0000-Z�,`Z�S�26\u0000]C�0�m�\u0001�X\u000b�М���D(\u0014���!����\u0005��ʙ�[�\u0001R-:\u001b�H=%;�D\u0019��nV�\"G�$\u0005�jm�i\u000b��O\u0003|�\u0016�a;�_�>���4�\u0017k�\u001d����x������9�Bu��.�.CiV*�\u0013N��f2��+�=��vOJA�-'�ν����Y`߅~\u001a��ZP�V�?�*�B�\u0015+��S�Q�Nz7M�#G:��^l�bvQ.\u0013��$��2\u0007�i�\u0010yr�\u0016�^o_k���O�_Ϩ��>n����W���t\n",
            ">6#�hs�ńR\u001a�8\f�o��Ͳ�\\\u0004�� �Jp�:J�����m�ыht\u0000q3�1(\"8U�:U҄x��\u0010��]��r\u001d�F��{�.���=\"��Ж���?�\u0015�\u001b�����\u0017��\u0006�b��߉���n�z�y'\u000bT�\u001b<}��X�\u0015�\u001c&�ˣ��\u0005N�y��Ɍ\u001cs������*�-����{#��s\u0007�[�\u001aX��u\"D\u001a��n.YJ �e<\u0016�f>5=���M\\<�fU\u0015\u000f<���'eJ�\u001c��!����o\u0003�߮\u0015�w�?y��_�Y�v\u0019?�\u0017�P;]rXR��&\n",
            ">�E�!.׊��؏z���Bǣ�J�U�EG��I�\r���g�Y[g\f���ۧ\u00067����4�J\"SW\r�r&%>���\"^F�\u001bܧ�b�M���sd\rS`�F,\u0007\u0017�i\u0004\u0002nݚ��V����r�\u0001�? �\u001e%)i�\b��(�V�ʑ|��+�e�1�ׂ�+\u0005�멀�t������¿i�!ɑ��鱿�8f\u001e-A_���ޯ�y��4Y\u001aG���⭨�a��0-����Ƹ^+��o���{���9�\u000e�\u00178\u0000n\t����Ém\tF����:1���3̪c\u0017Rv\u0002��\\��dq|�V���wC\\�\u0015wʷף|���4���+��tb��㤄��=�\u0010���aGz(x�υ����\u0011�&\\(�^o�n\b�\\��ez���=\u001e��\f��k7�\"\u000f�D�ވ\u001b��$w\u0012\f&F\u0000���<�H�\u0004�rc���/A�\u0015{���\u0007���\u000b\u0015�>��mԬVu\"��(N�Y�۰����W\u001b�x�DM���\u0006��x�t\u0000R����_F�\u001bT֊-���i���du���7|����ok�X���\u0006�b��Sc�~>�)~L��hiRi9I�4T��M`�\u0019�bAZ.r��[�,Pr6�H@��*`I�Mwl�S`_F�\u001b䋵bO��Z�@:�\u0015!�\u0016�@:ܨAF��òf�~�%�̄�U ��\u000b��n@kS4\u0007�\u001f!�\n",
            ">e��nsRgW���w\u0002�o֊=����X�lg�\"\u0014'�)��$p�u�ܼ��3�7�n�eX\u0004s_�/jp�\u0001��\u0003'�|\n"
          ]
        }
      ],
      "source": [
        "%%bash\n",
        "awk '/^>/' SRR11412247.fastq.gz"
      ]
    },
    {
      "cell_type": "markdown",
      "id": "b91d3bbb",
      "metadata": {
        "id": "b91d3bbb"
      },
      "source": [
        "# Exercise #7\n",
        "Take your command from above and instead of printing the output, pipe it to a cut command. Specify the delimiter as a space and extract the first field."
      ]
    },
    {
      "cell_type": "code",
      "execution_count": null,
      "id": "84d91da6",
      "metadata": {
        "id": "84d91da6",
        "colab": {
          "base_uri": "https://localhost:8080/"
        },
        "outputId": "803da163-b448-467f-c355-fecf72b0024c"
      },
      "outputs": [
        {
          "output_type": "stream",
          "name": "stdout",
          "text": [
            ">��!\u001e��\u001a`.?�a��v^\u0013�To_�Ӟ\u0001g\u0018FB�gi�8l�������J�ewp�֊�N��:CE���4D�\u0003g��R����*�\u0012�\u0010_��\u001b���P�x�:\u0015o\u0012�y\u001fs\r\u0015�on׃bU$��3d���Vc\n",
            ">;���5s �\u0017�O�ͨ�m�\u0001�X\u000b�в����cя�}-\ru\\ӝU��$���\u0011��+�\u0014Hj��/(ԫ2Q��!\u0007��aV�%�gn\u001e�]��ݯ\u0005u����=�։�\b\u0000�(U�^fo�+���\u0002)�Ŏ�����0\u0000��3��#q�9%��w_��\u001d�\u0017|A}\u0017�i|��\u0011�O����������ӓ��K�n\u001a=u7q\n",
            ">(�\u0000�0��OЮ��m|\u001d\u0007SAn��2Ԥ� ��\u001d��\"o�~\u001a�����\u0007\u001c�㏧�Y�H��36�Xm\u000e\u0014�3j�ݒ�gW�U\u0013�ĉ��R�|\u0012�\u000f�\u0018\u0013{Ԋ\u001cE�\u0011\u000b���n�4����\u000e���q�qgm�'�����\f������P��3�[��\\#�u.�M�S���N�G�ͤӸᚯ��Q�n�4��� \u000e��x̉�-R�0\u0015�\f\u0014�zu���!йE{4����e������֘*\u000e���@.S�\n",
            ">�5����گ�]��V\u0004~�v��s��\n",
            ">���\n",
            ">6#�hs�ńR\u001a�8\f�o��Ͳ�\\\u0004�� �Jp�:J�����m�ыht\u0000q3�1(\"8U�:U҄x��\u0010��]��r\u001d�F��{�.���=\"��Ж���?�\u0015�\u001b�����\u0017��\u0006�b��߉���n�z�y'\u000bT�\u001b<}��X�\u0015�\u001c&�ˣ��\u0005N�y��Ɍ\u001cs������*�-����{#��s\u0007�[�\u001aX��u\"D\u001a��n.YJ �e<\u0016�f>5=���M\\<�fU\u0015\u000f<���'eJ�\u001c��!����o\u0003�߮\u0015�w�?y��_�Y�v\u0019?�\u0017�P;]rXR��&\n",
            ">�E�!.׊��؏z���Bǣ�J�U�EG��I�\r���g�Y[g\f���ۧ\u00067����4�J\"SW\r�r&%>���\"^F�\u001bܧ�b�M���sd\rS`�F\n",
            ">e��nsRgW���w\u0002�o֊=����X�lg�\"\u0014'�)��$p�u�ܼ��3�7�n�eX\u0004s_�/jp�\u0001��\u0003'�|\n",
            ">\u001a}�̫T(ꮄN'�g_���w�|�2���ۉ�5�|\u001a)\b��x��\u00157\u0004�yN��> $\u000f\u0010�A��Q�n���\u0004$�o��^�O�w�\f\r-\u001ael�ܗ��\r����C�n���A�\u0007�4u���VIY�l�9���\r\u0019\n",
            ">\u001e�\u001b�вp я�H�Ɋv��`79�!��@\u000e~NgUj���y]�OS]��I\u0018y��@�QU��e�1�׊<���u�.\u0013\u0017~Ju��\u0004��ϖ.3�\u001d��]�l�Jࡍ�(�S�\u0014G\u001bj%�(m\u0011���15�~�r�k\u001d�n��\"\u000f#|�LܵԥK��h\u0002���)Wq\u000b�\b��!mz9<�h�(��\u001dI{0R�)\f\u001a\u001eJm�3qF\f.�B_F�\u001b䋵b\u000f#|�h�%0�\u0002���.�4nG�LL��\u0002yR\"PնaCӡ\\��\b\u0005��7S2�b�\u001d�����b_F�\u001b䋵`�\u0005%�z����rzvf�$s��\u0019�Do�O阤t�\u0014�\u001a\u0015 &K��\u0019p�\tt�0[\n",
            ">��+���wc\\�\u0015y(�שu\u0007\u0007��uD����3u����\u0010$�\u001b\u0019W`\u0005[K\u001f�.eH\u0016�\u0012BZ�91A\u0007��{�p\"�!/�/�ߍq�\u0016�aa߿NU\u000b\u0015l$m�[�۶�̠v�X�~t�C1b\u001b�;\u0005�rN&��N�e#���\r�[\u001c�\n",
            ">/�4v\u0004Ep`Z�m\u0018\f�ht͎\\If\u000e\u0003!@YQ���\u0006�be�\u0007\u001f�y�!1���{�\u0015����5��s�-\u0018\u0015\u001d�2�S��ѝ\u001cFM�\u0018�\u000b�ܰ\"�CDP��e�1�WF�j��u:c�)�nb���/����ru��I�%/\u000f�כ\n",
            ">\u0000\u001d��α؂�8̅6\u0019@��f:�旭`�\\ľ\u001b�reܩ���.��\u0018�f %���a1s���>t[�aA�tˑ�*�m�\u0001��-\u0006\u0017]�A�)\u0015Q�+�׍�?��/�ߍq�2��l���\u001b\u000fQA�\u001eU��<J��d��\u0019.�\u0005������)��R=�\u0018m98�t\u0013gن�A�@f~\u0004~�e\u0019�2��\u0010�+�N�����yk<��zHg���4V4�f\u0006T.\u000f��\u0014���b�M\\\u001f\u0016\u0004@pP��Z\u0003��Ua*xz�˗��\u0006�be�)��OS�a��@�����X�\u0004\u0007�<e����I�Y0�Z���v�4�\u000f��H<��{V18�%\u0015�\f���w�|�2��l��2\u0017��\u0006�be����H���w�|�2��|栗OC��=\\TD\u0013�\u001a̩9�kG~�e\"���\u000e��\u001d�\u0015D\n",
            ">\u000e��\u0006�R;���\f}\u0019�n�땑�.�>����\u0000p� ߐ�\f�\n",
            ">{\u0011��@}T�\u001dyG�\u001b!k@G�\u0014�5��\u0007<�S�0�\u0004\u00146=fLEL�{��5��w�|�V�!~o_�gd��3�C���D�f\u0014��~c>�A�BZm��s�Nm�Q�\r���}����jA���~��+���wC\\�\u0015wX���>��fh�\b\u000b��TW�̴>���񉐺;)h�\u0001|]5ՠD\u001f����\u001b\u001az�oڜ��\r�ҵ8����\u0006�b-��a}�_⻵��n�/֊=��~�ê�K��H:cљ�\u0018d\u001e\u001a�\th�i\u0002'�E��-�K��]���\u001c�>\u001b>�����Oh��\u0017l���\u0018�kE\u001e�w?���ב\u000f\u001f�`\u0000�W�a<�\u000fb�\u0013�??o�M^�\r\u0019G��i\\k��\\�T�/�zs�\u000br\u0010��Y\u0017��K��=��q�\u0007�A⎔^o�$��7M�H�\b\u0007\f��HϜ�æ�]���\u0004���^��\u0005P@[�~\u000f��r�����9�$�\u001a>�\u0016ެ�n��\u000f흾�x����=��\u0006�UH�\u000b\u0002�l�_H����x������#�͊}��� _�\u0015{X���T\u001b����\\[�T�\u0007�/u���0Lw���!w�$�cC�ٝLG�\t7G\u000et.pK�I��W�%˽\\+���i\u0006i�\n",
            ">�0�l\u0017\u001f��\u0019\u000fs͊}��� _�\u0015{���A\u0006��/|�����\n",
            ">�uӳF�Ű���n�/֊=|�~�N\"�\u0001́�6˼\"'�ۙ�u\u001d/�g�ٝ��\u0004�dC�A����6���:�\u000bW����=Rq�r��A�X\u000b�o0·�\u0011�n/]ѫ����Z�OD�S\u0005@0\u0005�k⡙��\u0019��<�\u0005�b!�aR����\u001b��\u0010�ٽ�.5��Gh�\u001a7����/��\u0011���:ʱP_L���6{�ZP׬��H�X�9YAI\u001b]�\u000f\u0011�\u0015�r�����k�\u001ef�v0���\u000b(��\u00033\u001a-zѡ\u0017Rn��e]R;=�v/��g�ݘ}$�\u001a|\"�\u0014'-�N���`�'���nL�Vd�moO\u0013Q����C\u001dlRnt$�Fǳ˫k�r���y�\u0004.�U�%\u0019�Wdt��\u0014� �\u001eCe\u000fz��\u001f�B]�~7�\u0017k�\u001e������xA\u000e�{�F-�\u001d�Ơ\u0015�\\\u001f�>�\u0015�\u0007:\u001a^�8\u000e�y;\u0005��d��𺒨3�f�׉\u0003\u001c��\n",
            ">eB�jO���w�|�V�h�?rrX�~7�\u0017k��\u000eG��\u0013o\u0012x�G��AB�\u0012r�=\u001f\u0014%b\n",
            ">+��FT�q�\u0012*f\b��J�nɅ\u0015��`2\u001c�}ށ�\"_F�\u001b䋵b\u000f��:3��]����\u000f�wxB\u0001\u0018w�Ήe�G]o�9���Z� \u0006Zp\u0013��9i�=ە�`���u��A�X+�p���'��\u0003U����}��\u0007���='�E\\S.�O�wt\u001ag\r��M\r\u001az)~�(\\5[\u001e��r\u0014;N\u0019�n�/֊=���d�LO�P\t��\n",
            ">\u001c!9��m�\t��\"M���\u000e\u0019FZ��+�$E��b�r\u0011�n�/֊=5��딁��դ��d�y̎\u001e�Yjrh�U0���\u001c��q��X\u001d��BY\u0006�\u000b\u0019*����)�y��#���3�;Ҧ��L3�\u0006��\u0018a}}�d{�M\u0013���d�l��j��[˘W�\u0014H���3H�Oׂ�;����=\u0015_/�3��\u000e��v��2�\u000e\u000b�\u0014��\u0016b�u��\u0011��΍\u0004��\u000f�L�5�P҆�z�9sCo}M\u0014�Cߍp�Vԩ��ON/�0���\u0011�h�k?\fkE\u0018Ri~\u00138 )�����Ȗ){+g5���~<�5�M�ӎ��څ��w�|�V�)���\u001e?�8�6ݭ�\n",
            ">�\b�\u001e^#�З�E\u0015q�\u000b�üq��7Yq���w�|�V�\tfM�o�B�?�ߊ�J��|�E�\u0016�`\u001b6�P}eM\"���9�ũI�:�58�@����9���\u0001#�f��%��\u0003�J¦��nu�����\u0015{*��3�T( `��N�N\u0012�'R��&�bB����>\u0007UU'T;$�!.G �L�7�8�\u0018ҕ����¤����~7�\u0017kŞJ�����\f�.�1\u0015gBi�Ћ�[��9��\u0001\u0004��A�;�\u0001J�'k�j��:q7ˣ\u0012\u0011�u8��Y+�e�1�׊<���i~�N\u0012�\n",
            ">]N:\u001c��I��+�T�CޑDNR�\u0015�2�� _�\u0015{*����d4��eE�^[�|��U�?��H��'�\u0016\u0005�z���*�1�ypb\u0014U�cp� Jx'לY�\\�}\u0019�n�/֊=����G�����Q�e+j�I�\"ʬ�B�r\u000fv�a���͇)�q�\u001ea������$���Ԅ�_`_F�\u001b䋵bO���Hl�ʻ\u001a\u0016]D���J�\u0015�2�� _�\u0015{*�����}��\n",
            ">\f��)��7\u0012��ؤZ0M8�kL\n",
            ">=��V����7x%�\n",
            ">�?ٴ\u001bpx��)��VB�Op���n\\�lI�wy�欨�hfZ}�\r��\u0003\n",
            ">��p��m7��6�\u000b�O����s�7%'��ȝ*d�\\��V���wc\\�\u0015yJ���޳�\u0006�\u001b�\"��{~&.J\u001cB��3�s\u000e��[۔��\u001bԆ�X�َx-2S�*d5ǳ\u001a'���Ƹ^\u000b�oTQoG\u0015������P���\n",
            ">�Yu6ڙ�C��\u0003\u0011M�?\u0015\u001d}K̿�\u0011)��E�ƏF͸4��\u0007��0gz��\f~7��Z��&��������w$���g�#0ú\n",
            ">��\u0011���Pom\t\\lu7�?׊�7[=\u0018���˃�a�tI�n��.b�`��iز�g;�y���ѹ\u000eOՏb�ҚTW?���^���x�ˍ��w]\u000b���'/)&\twl\u0011S\u0004���\u001fQjIѥ&K#�~�S\u001a\u0003�N�\u0016�#5�x�����\u0010A`r\u001c�1�\u0011\n",
            ">�v֡\u001er){\t\u0011ã���\u00029I�ֺ�y:��I�Dj\u0016Fc<������\n",
            ">\u0005I�W�5<�\u0012�OP��\u001c�ي\t\u0015�l\u0005�z��w�|�V��^O\u0017��ӳ�ۭu;5�n\u001d]'\u0002�`�T�\u0005�\u001bKS\u0006�U\u0010�\u0001�[R�*�IT\r\u001d��8�⣫�Z9�W��Ƹ^+�T}�'O#ώ4�\u0018�t\u001e�C�'\u0003oH�0\u0007:�\u000f��3K�5��\u001fi5b1��HUc\u001bs7Tv�r�\n",
            ">Q\u0006\u0005�L��\u001cU�\u00007�\u00166�� ��\u0007�P��Ն�\u001bK�\u001e����qt��� �\u0014M�:�� _�\u0015{J���uX`���$\u000eQ��\\��6�@��\u0015?�;\u0012�{-}�;�z�j����wH]N+W\b�!\u0006\u000b�]���\u0004u�1�׊<�����9��\u000e0����\u0011�0�I\u0002p\u0004�?\"dw\u0011�\u0010A�k�\u001a\n",
            ">L����\u0010\u0016B�}��p\u0015�n��\"Oq��4I��\t�.T86�x�\u0007$׷���ڶ\u001b�'n\u000f����u��Rt4��(c\n",
            ">\u0005z:\u0013\u0016�kP�\u0007\"\"uf�!]�j�fS�\u0006q7�W)d\u0019�nT�Vt�����\u001d\u0011\u0004�s�x�cjA��8�D)D��f���86�i�Z�^�\u001a-��l��A#@��\r�1��\u0004\ru��A�X+�Tz_Ϻ�h\u0018�XUC�hshMxR�Ѩ?�8�K��\u00103�n�J���&����Z�ø:`�\u0017\u001d�:��\u0018�kA��:���֑~�\u0010�ء�\f2��ò��!Kg+p�Ug��\u001f��B���E7���\u0019�\r�\u0005�\u000ed�Q��u��A�X+��y�\u000f�7�/L\u0012�.\"�}�\r{�3''�6'vzB\u0003+�\u000e]���ₑ\u0003���I�aP[L\u0011�\u0004�\u0016Ċ|\u0019�n�˵�N���4\u000f��ܺo���`ͤ����S�\tV$}���-��D���\b)�\u0013\u0013�1�F%�!lHʬW�\u0004������\u0006�b��S�}\u001f5ޯ���)Ph;�1\u000b��R��(�X��Y\u00038�Th��ޱ\f%\u000f^{�f\u0019�F|�þߞ���'!��d�\u001e1�\u001e�Hxdڢ_�t�N\u0005R�\u00147H�gm.�)�\u0015\t����s.�Dv\u001e�VM*���64���bO\u001d��p\u001d�������\u0016\u0001�\u0018F��m\u0017�$����\u0004>#��ܕQ��n\\���Q\u001b�HEs��q�Պݸ�|7��Z1�\u0010�~bڎ��\u0005��;>\u000f7]�������\u001d��Xל�LQ�!\u0014+�Vl�\u0013TJ�T��@f^�pѩ���\r��Z��@�>�\u0015%\u001c잯y��<����\u0019a� >�u�9\u0015+��-\u0004r�\n",
            ">���^i�2������ƚOkž�~7�\u0017k��Nmw?{�����ik\u0018��h�(�l�\u0000<x��A:\n",
            ">\u001a�P�g2#�\u0010#$ݗ��0}\\\u000f��\rp��X\u0018� ?ѹ(>n��Q񛕒�ؕ�����\\\u000b��Td��zR\u000f��\u0017�[�ЂK\u001c��w��1$U�\u001a���Vl��������cݾ#6sr7{ؽ-�nE�QG�\u001b䋵bOI����e�a����~\u0018\r�;*)\u001b}\u0014Q\u0013\"gY�٤T�r�\b�\u000e�\u0011�-@����\u0014eӲ�a��|�\u0015~�\u0017��\u0006�b��S��ߞ�\u001c�Z�\u001c��.L����Ih�L�=#\u0006����\t�~B�P�������r�=�C�5�\u000b+�e��A�X+��e��2\u00183�-��=���r�Hz���qd'c�#\u0016��@pd�)�=\u0019�-$\u001c��X\"i\u0003��yíYF\u001d�n��\"OU��vB�\f�ް?��!�B`<��\u0017�3�3��2tJ����&\u001a&|AȄ�\u0010Aw��P��T��V���wc\\�\u0015yj���\u001c��=kj���\u001e�I7V�\b9\n",
            ">53 �vbB⭉\n",
            ">4�âG̊�\u001ac�B��\u0015c��԰\u0017��Ƹ^+�\u0004��M\u001aa��e�+��N2\u0019\\\u0018 uF�\\��1�]7�\u0007�㍄\u0006xP\u0016�\u001dY�Ǭ�Y��t�w[�|\u0019�n��\"�E�_�0\u001a~�Gj\u0015�rT��2���E�\f�Ks��w�3�8\u0013�\u0014?*\u001c�������Gz�H�Z�8e�1�׊�7��.����-E|��0�y�\u0018��bC��\u000f\u0019�\u0007\u001b\u0010zQ\rZyô�5\u000f�ш��i��7&��+�e�1�ׂ�+\u0015����˽�~7�\u0017kŞ���\\���9�(�\rէ~�\u0016N�s2�\b$We�W\u0019�E���/��\r��Z��\"|�=�7}�������fczmH��@Y�V<7\u0014@:�\u0010X��S\u000b�\u0010UO�^m�)�\u000f�\u0018�����8e��wc\\�\u0015y���S=����m�٧Ξ\u0000j�7��K=w�Ȩѻ�5{7\u001f\u0004�hWk`̸��1\u000e���\\><G�a�B_F�\u001b䋵bO=�z��\u000e�x\n",
            ">����C\u0003���\u001c$2`���3�Q\u0019�\u001d��S\u001b�nM�W��pw�굢K\u0015��[�����\u0006�b��S�}���P��\u0015�~����\u0012�9���Hv�eD�\u0005�\u000e�.3\u000fo\u001a��Ն6r>��.�NNc\r<{�2���\u0006�b-�Q�}=�\u001f�&@\u0013Q�z㌝�\u0013\u0011G�Q{\b@��\u00058�\u0015&\f�G�|+7`�����ˀv$���7�`����\u0006�b��S�}��\u000b�\u0017K�\u0015\u001e: �|i�\u0000w?�M<N)MD\u0003�F�D���>�\t�U�\u0012�щW\u001fb�kg\u001f��c�\\n�u��A�X+�\u0014z_+{�S�Ad�v��p�\u0016F�:qg�V/\r\u0007�xl��ɣ\r\u0018�m�~|�6b�J��H#�\u0015�2�� _�\u0015{*���:U��\f�8\r��F[|t�:u�\u001cJl\u001d�XI\u0013�t[\f�oӶ�|���!�U����8?S\u0015\u0015��\u0015�2�� _�\u0015{J����q��\u00164\u0005C\u000fz�:8-\u0018LD֢A5���i\u0002�F\u000b����#\u001aU3�*�\r�5SR\u0018w�ۛ9�U�Z\u0007�\u001b�z��S�}�o�\u001c\u000f�\u001a_*�4T�)\u0003�(\u000f�d���\"��y?��z�����S\rd@-�򄸥��\u0010O�AՔ��~7�\u0017kŞ���<WU�H��Fn\u0017��\u0000\u001a&\fJVԓ�vc\u001e�|��\u001d��#����\u0000\u0019\t�����AS�\u000e��T%���Ƹ^+�_Ow`j���\r�q�\"�IQ�']y>7\u001d%o�f��$@K)5�8�\u0013Əi��\u0004�$��0��+\n",
            ">��\">H\bJ�\u0015\u0002�{H�G54Z��\u001b�M�NE�[G�\u001b䋵bO���pW臼\\�N���\u0016�\u0015���-A\u0007\u0001���@a��я8� \u0019t]3�\u001d�\u001f��\u0007�s6���I���q�wY+��G_G}t��3Q�Ɩ\u0000�D\n",
            ">LcZ�))��\u0015\u001dO8Ld�\u001du�M9�\u0018��mr;�y���Js��w�|�V���oK�IV�\r�i琁bo��5\u000f��5f\u0007J�:�S@�E4��\u00114̿��'Zk�\u0013���f�9\\\u0007�\u001b�z��S�}�${#�\t�^4�%�S\u000f%�I\u001f�.�?\u0013J|��J�1\u0018Ӌ�&��(���Fu�6&�\u0002}\t���/�ߍq�V�)�����)q��T�E��.�\u001e.�\u0019���j\u0007n�\u001b�!P���H�J���#�f�g�n�N<\\�\u0015�2�� _�\u0015{����0���76�\u0003G�\u001d�����6�����E����\"�54�]T\u001b�.���n����q��w�|�V�\n",
            ">٪�^\u0007�\u001bS�\u0015Yʹ��s~���y͙�i\u001f�${I�\u001d�|�ʘ�i]g�c\r�F\u00166\u0017\u0018�Ϡ��)c�\u0019��i�6\\�����P���\u0006�b��S�}��{X��w�|�V�)辎��j���R�G%�ś�=�5\u001b���UT����8\b���r/^\u001d�\u0016h$�b�6�q��\u0018�Q�qXR�}=)M�6�w��\"�P\u001f����\u0012�����@\u000e\u000bV��*N\u001b�_�/q�po��]\u0017E\u0018�Hz~4��\u0015�2��\u0018_�\u0015{*�����\u001d��d�9����h?a[�\u0010ԩ����Y�s�jL�\u0003\u0002���1~\u001a����T@P�\u0007i�4rž�~7�\u0017k���\u001a���F��2�C:�\u0019I\t��:��\u00175P\u001a��Ԑ�9��\u0013�^�\u001a\u000e�\u0011ӿ{�����6�~�\u0000^��\u001b�ǵ�LA���Љ�0m�\u0019�j�\u0004_V�\"Sj��fv�Ak::>-m�J���VS\"\u001f�j'6\u0014�|*�\u0014�͵j+\u0016����\u0006�b��S�}�N\u001d�Ξ�]cp\u000f���}��}L����GTcV���\b\u0015�\u0011&{�\u001a\n",
            ">\u0005�U0�4X�g���҈\u000e�vӕ ��8}a�LlvZeQy�{�\r�i�8����O�\u0006bl{\u0015 ��\u001b��$�p\u0013\u001bt�J:��GX~����:�u����hVE�Pz\u0018���eR{�7M\u0014'u��� _�\u0015{X��ُٜ�&�j�c�\\E����[E�NdK�\u0012\r�D�x��rHG��\u0001>X��7�s\u0001�!�u���}��� _�\u0015{�����n_/\u0007[�\u000fl=��\u0002��n�Q!��\n",
            ">T��.\r96\u0012�T����\u0006�b��C��真�0 �s���[��Y�d�D�:����\u000eL?��(��d�\u000b4Y�cU���6Y�����\u000f[�/w�\u001b䋵b\u000fw�?�\"��w�����0��\u001f�paס�� ���.MZb�\u0015\u0007R��?�N#F�6�\u0010�lT\"!\u001aJ�\u0015�r�1�׊<\u001c�~f�Rm�`R�Je��.�!�gp�zw{��\u0006�R�K\\�!�P\u000e%4�\u0005$��T�L}�~γ\\�/w�\u001b䋵b\u000f��?���I�m�\u0017���'|���\tO�t�Za��_�:�Ê��.K�)�94@�V�\u0007U\u001dɶ�j�כߍq�V��z��s}\u0019\u001c\u0000\"M��h\u0016?4S\u0011X�d���j\u001c\u0018xKu����s>�Qt\u001e洿�Q�2��X�xI>��З��\r��Z��\u0015�?�}\u0017\u000b\"�wM�\u0017���\u0013Ը�u�(\u0003\u0011��[�E2��U'\u001c\u001fP\u0012�aQxg\b�jH\u001f��\u000f?��b_�~7�\u0017k�\u001eVx?���]���ՈY�\u001e�c����\u001dH�ACU٪�\u0000�\ta�T�\u0001A)R���I~�\t�V�F�\u00123׻�\r��Z��\u0015�\u000fVx�z�\u0011l�G�A�߻��\u001d���弊;\u0015\tO/�ٜs�� �ԏ:I��n����\r=G#ټ\u0002���n�����\u000e\u001f|��'vq���\u0006�b���\u0007����ڋ��\u0006�b���\u0007�O��\u0010�H�J\u0019%�l���/�5TyI9�%]�h����??��\u0018[�_ \u001ck6K\u001c�m���+���wc\\�\u0015y������!�\u000b��C�e��x���\\�Ma2װ�\u000bҤW\u0016�-���W�)���\u0004��@\u0016#�hѳ�w�\u001b䋵b\u000f\u001f|���'N��� _�\u0015{\b���\u0010�D��2\u0006I3j��\u000b�%vV��j��\t���-\u0019ܜ\u0011��g\u00186���7\u0013�\bD����j����n��\"\u000f\u001f|?�� 3V\u0002th�z�� \u0019��v+���B2\u0017EU�Ȳ�|*\u0004�C�\t��L\u0013�e\t{�U�ʨ$���w�|�V���\u000f~�؂��X����\u0003�)v-5\u0011P&J��%�k���\u0012F�X_���Za�6�\u0005\u0011X���c�j׳a�l�V;4Ǧ\u0005Aha1P0M\u001a\buތ8S:ǉr\u0010�h��T\u000f����������\u000b+����\u0001\u001c���b\u000fQ{?�����$�R�����8���\u0016\u0011ǝ٩��h��a-O�|\u0011���}\u001e�\"��W���o��\u0007������w�|�V�a_\u001fOܱ��n�-�$�]ʖY�b�\bOB\u0003�f��\u001c}~�\u0012�=j����8Z��$���i�\u000fz1��w�\u001b䋵b\u000f��8����\u0005kDO���\u0019���}$)�qmN��_mr\n",
            ">���޳�IT�����:�� _�\u0015{\n",
            ">�.ZF\u0005c�[tO�E<\fM/T��L4��L��=��W��iƜ�0)\u0015W���w�|�V�)�>�wx6�\rss\u0005���Q��QA�f݄�\\f;7ƨ:\u0001���/R��\u0013(8\u0005x\u0005�\u000f��Y��u��A�X+��h\u001f�O��ĕ��I�&\u001c\u0016�i�q�٠\b\u00133��0;\u000e�\u0001�\u0005w=���S��9���h�\n",
            ">>�\u0015�2�� _�\u0005�W\u0018����h�H�\u001e��\u0002������6k�\u000f��F+�\u0001R�\b����\u001dFeJ\u0013���\n",
            ">�gbB��hsq��-�\u000etc��x7bZ��zw_Z��u�<�KY�/�\u00183\u001caj�\u0007S{�|\u0019�\u0006�f�%��ۑ��8ޕ_wu�s�݉x���?��S�\t���p���-߭P|�+�e�[�-׊8L����hG��H3��ch\u0016�H\t>\u0011�7y$Bz����=W\"8F`\u0004�i�x��H��=��\u0006]��>�S��X\u0006�\u001b�z=#��K<�_�~���\u0014�cl\u0003�\u0017����\u0006P\u0001\u0010)��\u001dTw��l\u001f}Μ�z�ڠ����93�u�20\u001d���E�1�׊�+�\u001f\n",
            ">L\u0019�*<��5�?��M\u001fG\u001e\u001d��X�~7�\u0017k�\u001e\u0016�z������\u0000H\u001dy0�Z��C\u001bF\r!--@�iR��4���>\u000b~{�uJI�d��-Y�s7�+�7����S\u000fQ%��\u0000��Nje21�z$\u0018\u001a�Q���\u001boq�TJb�MϤ��D�i|a\u0011S�3/\u001d\u0007��]\u0017\u001a��ނr��� _�\u0015{�����&\t̜i����\u000f%���\u0019����f�c���H����NR�Zc����l��\u0012(Ϥ���\u0001s��� _�\u0015{���9\u000f)��H�3a��.���\u0018��}\u001ac\f)�c�CcM0#li��T����O����?gž��n�/֊=D�vf�z��Ba`'c3l2��#��a�\u0013uIی�E��f\f��hCEotGͫ��8���������n�/֊=��v��v\"��Q2ʐ|�/Jڎ�+ɱ��Fs:~��T��&�G��\u0006�]\u0019c>��s��\u0018<�j\u000f\u0017ؗ��\r��Z���ݞ3w;���CeC�̣�0�F����N��=�T\u00119�P��8\u000e�#I�}\u00167:�IZ�f�w�\u001b䋵b\u000f��������/H���O��n��֊}��� _�\u0015{���4n�Y���\u000eF&\u0019XR�i���j��4iHg�P���0�h�\r�b\bˀZ���C�m/��r�1�׊<\\�vp���\n",
            ">ސ\tP!���\u0017�>�MIpQ\u0000\"\u001b\u0015D�\t�w ZP���\u000en�)T��\u000eu\u0019\u000f/�!Ϛ��a�F�u�hS�=Ε(�\u0007�a2m���|*Ztj��i0��4&2�\f�+�_�\u000bgPYA�R�o�p�K�.NqT���\\+��r�ӥ\u001e\fh��A�`�!�O�u�3D>\"����.c~�\u000b{�h��LMn\u0014\t�\n",
            ">��ѫ�DA�\\G�S\u001e\\H�a=\u001a�\u0018W���V��X�'�45Z\\�/��\r��Z��.���LR�J.�\u0001��\u000b�9\u0007�4�q\u001c�k����k��\u0000\u0003�\u001d�(��m�B�\u0012c\u001b�k���_��až�~7�\u0017kŞ��������\u0005��Цk\u0011Ҿx-�\u0013|ɉ��Rݛ�%\r\u001c�~�\u0006��)��:\u0010*�D\b\t���`VЗ��Ƹ^+�ԅ�S]�\f0�\u0019�C���\u0014��c�^î/�\u0004A\r���>h��:3�x�\f���\u000f�|�k�\n",
            ">���n��3a\u0011ݹ?�3JO���\u0015������c�&| �{4�Lzѣ)�/�ߍq�V��>O\u0013L��\u001a�u\u001b�a\n"
          ]
        }
      ],
      "source": [
        "%%bash\n",
        "awk '/^>/' SRR11412247.fastq.gz | cut -d \",\" -f 1\n"
      ]
    },
    {
      "cell_type": "markdown",
      "id": "d6223cab",
      "metadata": {
        "id": "d6223cab"
      },
      "source": [
        "# Exercise #8\n",
        "Take your command from above and edit it so that it publishes the output to a file named \"decoys.txt\"."
      ]
    },
    {
      "cell_type": "code",
      "execution_count": null,
      "id": "af4847c0",
      "metadata": {
        "id": "af4847c0",
        "colab": {
          "base_uri": "https://localhost:8080/"
        },
        "outputId": "0dabb3d7-8abe-44d2-c912-c4e5960ef973"
      },
      "outputs": [
        {
          "output_type": "stream",
          "name": "stdout",
          "text": [
            "decoys.txt\n"
          ]
        }
      ],
      "source": [
        "%%bash\n",
        "awk '/^>/' SRR11412247.fastq.gz | cut -d \",\" -f 1 > decoys.txt\n",
        "ls decoys.txt"
      ]
    }
  ],
  "metadata": {
    "kernelspec": {
      "display_name": "Python 3",
      "name": "python3"
    },
    "language_info": {
      "codemirror_mode": {
        "name": "ipython",
        "version": 3
      },
      "file_extension": ".py",
      "mimetype": "text/x-python",
      "name": "python",
      "nbconvert_exporter": "python",
      "pygments_lexer": "ipython3",
      "version": "3.8.12"
    },
    "toc": {
      "nav_menu": {},
      "number_sections": true,
      "sideBar": true,
      "skip_h1_title": false,
      "title_cell": "Table of Contents",
      "title_sidebar": "Contents",
      "toc_cell": false,
      "toc_position": {},
      "toc_section_display": true,
      "toc_window_display": false
    },
    "colab": {
      "provenance": [],
      "include_colab_link": true
    }
  },
  "nbformat": 4,
  "nbformat_minor": 5
}